{
 "cells": [
  {
   "cell_type": "code",
   "execution_count": 56,
   "metadata": {},
   "outputs": [],
   "source": [
    "from eth_account import Account\n",
    "import eth_keys\n",
    "from eth_keys.constants import SECPK1_N \n",
    "from eth_hash.auto import keccak \n",
    "from eth_keys.backends.native.ecdsa import decode_public_key, encode_raw_public_key, private_key_to_public_key\n",
    "from eth_keys.backends.native.jacobian import fast_multiply, fast_add \n",
    "from  eth_utils.encoding import big_endian_to_int\n",
    "# from eth_keys import private_key_to_public_key\n",
    "import os\n",
    "\n"
   ]
  },
  {
   "cell_type": "code",
   "execution_count": 57,
   "metadata": {},
   "outputs": [
    {
     "name": "stdout",
     "output_type": "stream",
     "text": [
      "Alice's private key: 0xae106d587189411bc9ad8899b88b5351beeea26978abb1d9e16d82ef2bcbc848\n",
      "Alice's public key: 0xbc8f687b18107f57294fb7f6b925cfc1da7b32003fbd44d569c73060f45fa292dde1eb78f80ca0615aadea098bd4b583a11c6a0c12be025e74e74a7dade989ee\n",
      "Alice's account's address: 0x6cBF738541d59F0E1CeC4b5B3c6DC500aF32eC6d\n"
     ]
    }
   ],
   "source": [
    "def generate_triple():\n",
    "    priv = eth_keys.keys.PrivateKey(os.urandom(32))\n",
    "    priv_hex = priv._raw_key.hex()\n",
    "\n",
    "    pub = eth_keys.keys.PublicKey.from_private(priv)\n",
    "    account = pub.to_checksum_address()\n",
    "    return (priv, pub, account)\n",
    "\n",
    "\n",
    "alice = generate_triple()\n",
    "\n",
    "print(f\"Alice's private key: {alice[0]}\")\n",
    "print(f\"Alice's public key: {alice[1]}\")\n",
    "print(f\"Alice's account's address: {alice[2]}\")"
   ]
  },
  {
   "cell_type": "code",
   "execution_count": 58,
   "metadata": {},
   "outputs": [],
   "source": [
    "def   mult_priv_key_pub_key(private_key, public_key):\n",
    "    # return private_key * public_key\n",
    "    priv_as_number  = big_endian_to_int(private_key._raw_key)\n",
    "    pubkey_as_tuple = decode_public_key(public_key._raw_key)\n",
    "    new_point = fast_multiply(pubkey_as_tuple, priv_as_number)\n",
    "    \n",
    "    encoded_new_point = encode_raw_public_key(new_point)\n",
    "    new_pubkey = eth_keys.keys.PublicKey(encoded_new_point)\n",
    "    return new_pubkey"
   ]
  },
  {
   "cell_type": "code",
   "execution_count": 59,
   "metadata": {},
   "outputs": [
    {
     "name": "stdout",
     "output_type": "stream",
     "text": [
      "Bob's private key * Alice's public key: 0x92630b331ecfbba82de5fe09249909b2503b1664603608875b4511e2676bfb1a45b8d3cd75a812abc114a612be9a2850405afca7c17094c5ab4042c0e143137e\n",
      "Alice's private key * Bob's public key: 0x92630b331ecfbba82de5fe09249909b2503b1664603608875b4511e2676bfb1a45b8d3cd75a812abc114a612be9a2850405afca7c17094c5ab4042c0e143137e\n",
      "Bob's private key * Alice's public key == Alice's private key * Bob's public key: True\n"
     ]
    }
   ],
   "source": [
    "alice = generate_triple()\n",
    "bob = generate_triple()\n",
    "\n",
    "alice_priv = alice[0]\n",
    "alice_pub = alice[1]\n",
    "\n",
    "bob_priv = bob[0]\n",
    "bob_pub = bob[1]\n",
    "\n",
    "bob_priv_alice_pub = mult_priv_key_pub_key(bob_priv, alice_pub)\n",
    "alice_priv_bob_pub = mult_priv_key_pub_key(alice_priv, bob_pub)\n",
    "\n",
    "print(f\"Bob's private key * Alice's public key: {bob_priv_alice_pub}\")\n",
    "print(f\"Alice's private key * Bob's public key: {alice_priv_bob_pub}\")\n",
    "\n",
    "print(f\"Bob's private key * Alice's public key == Alice's private key * Bob's public key: {bob_priv_alice_pub == alice_priv_bob_pub}\")"
   ]
  },
  {
   "cell_type": "code",
   "execution_count": 60,
   "metadata": {},
   "outputs": [
    {
     "name": "stdout",
     "output_type": "stream",
     "text": [
      "the number version of the hash of Bob's private key * Alice's public key: 92392652484788306995279264890571604930265393532005835043227996712844974116360\n"
     ]
    }
   ],
   "source": [
    "def secret_to_hash(secret):\n",
    "    return big_endian_to_int(keccak(secret))\n",
    "\n",
    "print(f\"the number version of the hash of Bob's private key * Alice's public key: {secret_to_hash(bob_priv_alice_pub._raw_key)}\")"
   ]
  },
  {
   "cell_type": "code",
   "execution_count": 61,
   "metadata": {},
   "outputs": [],
   "source": [
    "def new_pubkey_from_secret(secret,pubkey):\n",
    "    if isinstance(pubkey, eth_keys.keys.PublicKey):\n",
    "        pubkey = decode_public_key(pubkey._raw_key)\n",
    "    else:\n",
    "        raise TypeError(\"pubkey must be a PublicKey object\")\n",
    "    numeric_secret = secret_to_hash(secret) % SECPK1_N\n",
    "    numeric_secret_bytes = numeric_secret.to_bytes(32, byteorder='big')\n",
    "    secret_pubkey = private_key_to_public_key(numeric_secret_bytes)\n",
    "    secret_pubkey_tuple = decode_public_key(secret_pubkey)\n",
    "    secret_point = fast_add(pubkey, secret_pubkey_tuple)\n",
    "\n",
    "    encoded_secret_point = encode_raw_public_key(secret_point)\n",
    "    new_pubkey = eth_keys.keys.PublicKey(encoded_secret_point)\n",
    "\n",
    "    return new_pubkey\n",
    "\n",
    "def new_address_from_secret(secret, pubkey):\n",
    "    if not isinstance(pubkey, eth_keys.keys.PublicKey):\n",
    "        raise TypeError(\"pubkey must be a PublicKey object\")\n",
    "\n",
    "    new_pubkey = new_pubkey_from_secret(secret, pubkey)\n",
    "    return new_pubkey.to_checksum_address()\n",
    "\n",
    "def new_private_key_from_secret(secret, private_key):\n",
    "    if not isinstance(private_key, eth_keys.keys.PrivateKey):\n",
    "        raise TypeError(\"private_key must be a PrivateKey object\")\n",
    "    numeric_secret = secret_to_hash(secret)\n",
    "    private_key_as_number = big_endian_to_int(private_key._raw_key)\n",
    "    new_private_key_as_number = (private_key_as_number + numeric_secret) % SECPK1_N\n",
    "\n",
    "    new_private_key_as_bytes = new_private_key_as_number.to_bytes(32, byteorder='big')\n",
    "\n",
    "    new_private_key = eth_keys.keys.PrivateKey(new_private_key_as_bytes)\n",
    "    return new_private_key"
   ]
  },
  {
   "cell_type": "code",
   "execution_count": 62,
   "metadata": {},
   "outputs": [
    {
     "name": "stdout",
     "output_type": "stream",
     "text": [
      "the new public key: 0xedd3258e89baa2f7c5072b43f772de77d07c745515d0696ead0993089ad4e75c3b243fed3919454c92df4f032607e3cfb5a2f7bdaaf7858a02c399190528470d\n",
      "the new public key: 0xedd3258e89baa2f7c5072b43f772de77d07c745515d0696ead0993089ad4e75c3b243fed3919454c92df4f032607e3cfb5a2f7bdaaf7858a02c399190528470d\n",
      "are the two pubkeys the same? True\n"
     ]
    }
   ],
   "source": [
    "secret = bob_priv_alice_pub._raw_key\n",
    "new_pubkey = new_pubkey_from_secret(secret, bob_pub)\n",
    "print(f\"the new public key: {new_pubkey}\")\n",
    "\n",
    "# private key with secret\n",
    "new_private_key = new_private_key_from_secret(secret, bob_priv)\n",
    "# private key to public key\n",
    "new_pubkey2 = eth_keys.keys.PublicKey(private_key_to_public_key(new_private_key._raw_key))\n",
    "\n",
    "print(f\"the new public key: {new_pubkey2}\")\n",
    "# are thw two pubkeys the same?\n",
    "print(f\"are the two pubkeys the same? {new_pubkey == new_pubkey2}\")\n"
   ]
  }
 ],
 "metadata": {
  "kernelspec": {
   "display_name": "Python 3",
   "language": "python",
   "name": "python3"
  },
  "language_info": {
   "codemirror_mode": {
    "name": "ipython",
    "version": 3
   },
   "file_extension": ".py",
   "mimetype": "text/x-python",
   "name": "python",
   "nbconvert_exporter": "python",
   "pygments_lexer": "ipython3",
   "version": "3.10.7"
  },
  "orig_nbformat": 4,
  "vscode": {
   "interpreter": {
    "hash": "aee8b7b246df8f9039afb4144a1f6fd8d2ca17a180786b69acc140d282b71a49"
   }
  }
 },
 "nbformat": 4,
 "nbformat_minor": 2
}
