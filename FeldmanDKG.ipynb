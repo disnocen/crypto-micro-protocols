{
 "cells": [
  {
   "cell_type": "markdown",
   "id": "5853932b-d9b4-4ef9-96e0-9184498ad6ae",
   "metadata": {},
   "source": [
    "# Joint Feldman DKG\n",
    "\n",
    "as seen in [Secure Distributed Key Generation\n",
    "for Discrete-Log Based Cryptosystems](https://link.springer.com/content/pdf/10.1007/3-540-48910-X_21.pdf)"
   ]
  },
  {
   "cell_type": "markdown",
   "id": "188b4640-c443-40e1-b681-bf43f051e1a2",
   "metadata": {},
   "source": [
    "## First part\n",
    "\n"
   ]
  },
  {
   "cell_type": "code",
   "execution_count": 1,
   "id": "fa2b6df4-a171-4509-a49d-ef5537868cd2",
   "metadata": {},
   "outputs": [],
   "source": [
    "import random as rnd #not secure, use os.random() instead"
   ]
  },
  {
   "cell_type": "code",
   "execution_count": 23,
   "id": "3a2c94d2-3cfb-4727-b8e3-b041ad7dccd0",
   "metadata": {},
   "outputs": [],
   "source": [
    "def create_polynomial(t,mod):\n",
    "    coeff = [rnd.randint(1,mod-1) for _ in range(t+1)]\n",
    "    return coeff\n",
    "\n",
    "def create_commits(coeff,t,g,mod):\n",
    "    comms = [pow(g,coeff[k],mod) for k in range(t+1)]\n",
    "    return comms\n"
   ]
  },
  {
   "cell_type": "code",
   "execution_count": 3,
   "id": "e3dc6a96-aa66-424b-afc5-043a168f8185",
   "metadata": {},
   "outputs": [],
   "source": [
    "def evaluate_polynomial(coeff,val,mod):\n",
    "    s = 0\n",
    "    for i in range(len(coeff)):\n",
    "        s += (coeff[i]*pow(val,i)) %mod\n",
    "        s=s%mod\n",
    "    \n",
    "    return s"
   ]
  },
  {
   "cell_type": "code",
   "execution_count": 4,
   "id": "d7336b4a-4984-4cf0-81c2-be67a07aa241",
   "metadata": {},
   "outputs": [],
   "source": [
    "def create_shares(coeff,n,mod,i):\n",
    "    \"\"\"\n",
    "    Every party i creates shares for all j\n",
    "    \"\"\"\n",
    "    evals = []\n",
    "    for j in range(0,n):\n",
    "        if j != i:\n",
    "            val = evaluate_polynomial(coeff, j,mod)\n",
    "            evals.append(val % mod)\n",
    "        else:\n",
    "            evals.append(0)\n",
    "    return evals"
   ]
  },
  {
   "cell_type": "code",
   "execution_count": 19,
   "id": "f0d70d6f-b15a-468f-b9d2-ad436d220f56",
   "metadata": {},
   "outputs": [],
   "source": [
    "def verify_share(share, comms, j, g, t, mod):\n",
    "    \"\"\"\n",
    "    Given a share from party i and the commitment from that party,\n",
    "    this function verifies that the share is valid.\n",
    "    \"\"\"\n",
    "    flag = False\n",
    "\n",
    "    # Compute G = g^share mod mod\n",
    "    G = pow(g, share,mod)\n",
    "\n",
    "    # Initialize the product s to 1\n",
    "    s = 1\n",
    "\n",
    "    # Compute the product of C^j^k for k in [0, t]\n",
    "    for k in range(t+1):\n",
    "        jk = pow(j, k)\n",
    "        Cijk = pow(comms[k], jk,mod)\n",
    "        s *= Cijk\n",
    "        s = s % mod\n",
    "\n",
    "    # Check if G == s, and set the flag accordingly\n",
    "    if G == s:\n",
    "        print(\"yeah!\")\n",
    "        flag = True\n",
    "    else:\n",
    "        print(f\"G={G}, s={s}\")\n",
    "\n",
    "    return flag\n",
    "\n",
    "\n",
    "\n",
    "def verify_shares(shares,comms,j,i,g,mod,n,t):\n",
    "    j_share=0\n",
    "    j_QUAL = [j] # each party will assume it is right\n",
    "    \n",
    "    \n",
    "    for w in range(n):\n",
    "        if w != j:\n",
    "            # get share from party w\n",
    "            j_share = shares[\"P_\"+str(w)][j]\n",
    "    \n",
    "            # compute product of commitments\n",
    "            s = 1\n",
    "            comms_vec=comms[\"P_\"+str(w)]\n",
    "            print()\n",
    "            print(\"P_\"+str(w)+\": \",comms_vec)\n",
    "            # comms_vec.reverse()\n",
    "            for k in range(0,t+1):\n",
    "                s *= comms_vec[k]**((w)**k)\n",
    "                # s *= comms[\"P_\"+str(i)][k]**((i)**k)\n",
    "            \n",
    "            # assert equality\n",
    "            if pow(g,j_share,mod) == (s % mod):\n",
    "                j_QUAL.append(w)\n",
    "            else:\n",
    "                print(w,j_share)\n",
    "                print(\"sum\", s%mod,sep='\\t')\n",
    "                print(\"g**si\", pow(g,j_share,mod),sep='\\t')\n",
    "    \n",
    "    j_QUAL.sort()\n",
    "    return (j,j_QUAL)"
   ]
  },
  {
   "cell_type": "code",
   "execution_count": 21,
   "id": "3d76910a-cdb4-4e02-8cbe-b697e4062596",
   "metadata": {},
   "outputs": [],
   "source": [
    "t=5; n=10\n",
    "a=0; b=100\n",
    "g = 3; \n",
    "p=23\n",
    "q=11 # q|p-1\n",
    "#r = 6361"
   ]
  },
  {
   "cell_type": "code",
   "execution_count": 22,
   "id": "ca1ee05e-1794-4e0e-be80-7668d644b840",
   "metadata": {},
   "outputs": [
    {
     "name": "stdout",
     "output_type": "stream",
     "text": [
      "coeff\n"
     ]
    },
    {
     "data": {
      "text/plain": [
       "{'P_0': [5, 4, 10, 7, 10, 9],\n",
       " 'P_1': [7, 4, 4, 1, 1, 2],\n",
       " 'P_2': [3, 2, 6, 1, 7, 7],\n",
       " 'P_3': [1, 6, 10, 10, 7, 10],\n",
       " 'P_4': [4, 8, 6, 7, 8, 4],\n",
       " 'P_5': [4, 10, 5, 4, 9, 9],\n",
       " 'P_6': [10, 6, 9, 2, 3, 6],\n",
       " 'P_7': [7, 5, 7, 5, 8, 7],\n",
       " 'P_8': [7, 8, 1, 6, 10, 10],\n",
       " 'P_9': [6, 5, 9, 1, 6, 9]}"
      ]
     },
     "execution_count": 22,
     "metadata": {},
     "output_type": "execute_result"
    }
   ],
   "source": [
    "coeff = {}\n",
    "for i in range(n):\n",
    "    coeff[\"P_\"+str(i)] = create_polynomial(t,q)\n",
    "\n",
    "print(\"coeff\")\n",
    "coeff"
   ]
  },
  {
   "cell_type": "code",
   "execution_count": 24,
   "id": "2d512442-a335-4715-9ce8-9c4d86ac49b3",
   "metadata": {},
   "outputs": [
    {
     "data": {
      "text/plain": [
       "{'P_0': [13, 12, 8, 2, 8, 18],\n",
       " 'P_1': [2, 12, 12, 3, 3, 9],\n",
       " 'P_2': [4, 9, 16, 3, 2, 2],\n",
       " 'P_3': [3, 16, 8, 8, 2, 8],\n",
       " 'P_4': [12, 6, 16, 2, 6, 12],\n",
       " 'P_5': [12, 8, 13, 12, 18, 18],\n",
       " 'P_6': [8, 16, 18, 9, 4, 16],\n",
       " 'P_7': [2, 13, 2, 13, 6, 2],\n",
       " 'P_8': [2, 6, 3, 16, 8, 8],\n",
       " 'P_9': [16, 13, 18, 3, 16, 18]}"
      ]
     },
     "execution_count": 24,
     "metadata": {},
     "output_type": "execute_result"
    }
   ],
   "source": [
    "comms = {}\n",
    "for i in range(n):\n",
    "    comms[\"P_\"+str(i)] = create_commits(coeff[\"P_\"+str(i)],t,g,p)\n",
    "comms"
   ]
  },
  {
   "cell_type": "code",
   "execution_count": 25,
   "id": "a14f4502-7ae0-4da8-b5a1-2ca5c20e7ef7",
   "metadata": {},
   "outputs": [
    {
     "name": "stdout",
     "output_type": "stream",
     "text": [
      "shares:\n"
     ]
    },
    {
     "data": {
      "text/plain": [
       "{'P_0': [0, 1, 7, 4, 8, 6, 2, 8, 2, 7],\n",
       " 'P_1': [7, 0, 9, 0, 2, 10, 2, 3, 6, 3],\n",
       " 'P_2': [3, 4, 0, 4, 1, 6, 8, 8, 1, 2],\n",
       " 'P_3': [1, 0, 4, 0, 9, 9, 3, 3, 8, 5],\n",
       " 'P_4': [4, 4, 4, 10, 0, 1, 0, 3, 5, 0],\n",
       " 'P_5': [4, 8, 2, 1, 9, 0, 3, 4, 4, 4],\n",
       " 'P_6': [10, 3, 6, 5, 2, 9, 0, 5, 3, 6],\n",
       " 'P_7': [7, 6, 8, 6, 6, 9, 4, 0, 0, 10],\n",
       " 'P_8': [7, 9, 5, 10, 6, 9, 4, 1, 0, 7],\n",
       " 'P_9': [6, 3, 4, 8, 8, 4, 5, 9, 5, 0]}"
      ]
     },
     "execution_count": 25,
     "metadata": {},
     "output_type": "execute_result"
    }
   ],
   "source": [
    "shares = {}\n",
    "for i in range(n):\n",
    "    shares[\"P_\"+str(i)] = create_shares(coeff[\"P_\"+str(i)],n,q,i)\n",
    "\n",
    "print(\"shares:\")\n",
    "shares"
   ]
  },
  {
   "cell_type": "code",
   "execution_count": 26,
   "id": "2d398564-25d2-4f4d-9dd7-4e07e1a3645f",
   "metadata": {},
   "outputs": [
    {
     "name": "stdout",
     "output_type": "stream",
     "text": [
      "share 0: 4\n",
      "comms [13, 12, 8, 2, 8, 18]\n",
      "yeah!\n",
      "True\n",
      "\n",
      "share 1: 0\n",
      "comms [2, 12, 12, 3, 3, 9]\n",
      "yeah!\n",
      "True\n",
      "\n",
      "share 2: 4\n",
      "comms [4, 9, 16, 3, 2, 2]\n",
      "yeah!\n",
      "True\n",
      "\n",
      "share 4: 10\n",
      "comms [12, 6, 16, 2, 6, 12]\n",
      "yeah!\n",
      "True\n",
      "\n",
      "share 5: 1\n",
      "comms [12, 8, 13, 12, 18, 18]\n",
      "yeah!\n",
      "True\n",
      "\n",
      "share 6: 5\n",
      "comms [8, 16, 18, 9, 4, 16]\n",
      "yeah!\n",
      "True\n",
      "\n",
      "share 7: 6\n",
      "comms [2, 13, 2, 13, 6, 2]\n",
      "yeah!\n",
      "True\n",
      "\n",
      "share 8: 10\n",
      "comms [2, 6, 3, 16, 8, 8]\n",
      "yeah!\n",
      "True\n",
      "\n",
      "share 9: 8\n",
      "comms [16, 13, 18, 3, 16, 18]\n",
      "yeah!\n",
      "True\n",
      "\n"
     ]
    }
   ],
   "source": [
    "j=3\n",
    "\n",
    "for i in range(n):\n",
    "    if i != j:\n",
    "        share = shares['P_'+str(i)][j]\n",
    "        print(f\"share {i}: {share}\")\n",
    "        comms_i = comms[\"P_\"+str(i)]\n",
    "        print(\"comms\", comms_i)\n",
    "        print(verify_share(share,comms_i,j, g,t, p))\n",
    "        print()\n",
    "        # j,j_QUAL = verify_shares(shares,comms,j,i,g,r,n,t)\n",
    "        # j_QUAL"
   ]
  },
  {
   "cell_type": "code",
   "execution_count": 11,
   "id": "5d1d7aad-9ddd-4eaa-b20c-1a3537d19f80",
   "metadata": {},
   "outputs": [
    {
     "name": "stdout",
     "output_type": "stream",
     "text": [
      "eval\t[1, 4, 0, 0, 3, 6, 9, 9, 11, 0]\n",
      "sum\t3\n",
      "g**si\t1\n"
     ]
    },
    {
     "ename": "AssertionError",
     "evalue": "",
     "output_type": "error",
     "traceback": [
      "\u001b[0;31m---------------------------------------------------------------------------\u001b[0m",
      "\u001b[0;31mAssertionError\u001b[0m                            Traceback (most recent call last)",
      "\u001b[0;32m/var/folders/br/ssygwcyx72999f9f20z_h4700000gn/T/ipykernel_27767/2689797623.py\u001b[0m in \u001b[0;36m<cell line: 14>\u001b[0;34m()\u001b[0m\n\u001b[1;32m     12\u001b[0m \u001b[0mprint\u001b[0m\u001b[0;34m(\u001b[0m\u001b[0;34m\"g**si\"\u001b[0m\u001b[0;34m,\u001b[0m \u001b[0mpow\u001b[0m\u001b[0;34m(\u001b[0m\u001b[0mg\u001b[0m\u001b[0;34m,\u001b[0m\u001b[0mint\u001b[0m\u001b[0;34m(\u001b[0m\u001b[0mevals\u001b[0m\u001b[0;34m[\u001b[0m\u001b[0mi\u001b[0m\u001b[0;34m]\u001b[0m\u001b[0;34m)\u001b[0m\u001b[0;34m,\u001b[0m\u001b[0mr\u001b[0m\u001b[0;34m)\u001b[0m\u001b[0;34m,\u001b[0m\u001b[0msep\u001b[0m\u001b[0;34m=\u001b[0m\u001b[0;34m'\\t'\u001b[0m\u001b[0;34m)\u001b[0m\u001b[0;34m\u001b[0m\u001b[0;34m\u001b[0m\u001b[0m\n\u001b[1;32m     13\u001b[0m \u001b[0;34m\u001b[0m\u001b[0m\n\u001b[0;32m---> 14\u001b[0;31m \u001b[0;32massert\u001b[0m \u001b[0ms\u001b[0m\u001b[0;34m%\u001b[0m\u001b[0mr\u001b[0m \u001b[0;34m==\u001b[0m \u001b[0mg\u001b[0m\u001b[0;34m**\u001b[0m\u001b[0mevals\u001b[0m\u001b[0;34m[\u001b[0m\u001b[0mi\u001b[0m\u001b[0;34m]\u001b[0m\u001b[0;34m%\u001b[0m\u001b[0mr\u001b[0m\u001b[0;34m\u001b[0m\u001b[0;34m\u001b[0m\u001b[0m\n\u001b[0m\u001b[1;32m     15\u001b[0m \u001b[0;34m\u001b[0m\u001b[0m\n\u001b[1;32m     16\u001b[0m \u001b[0;34m\u001b[0m\u001b[0m\n",
      "\u001b[0;31mAssertionError\u001b[0m: "
     ]
    }
   ],
   "source": [
    "i = 2\n",
    "evals=shares[\"P_\"+str(i)]\n",
    "print(\"eval\",evals,sep='\\t')\n",
    "\n",
    "s = 1\n",
    "\n",
    "for k in range(0,t+1):\n",
    "    s *= comms[\"P_\"+str(i)][k]**((j)**k)\n",
    "\n",
    "    \n",
    "print(\"sum\", s%r,sep='\\t')\n",
    "print(\"g**si\", pow(g,int(evals[i]),r),sep='\\t')\n",
    "\n",
    "assert s%r == g**evals[i]%r\n",
    "\n",
    "\n"
   ]
  },
  {
   "cell_type": "markdown",
   "id": "7d61e9ad-8ae2-4555-a61d-5feff99ea97c",
   "metadata": {},
   "source": [
    "## Second part"
   ]
  },
  {
   "cell_type": "code",
   "execution_count": null,
   "id": "6c2dd275-b5d3-46a5-a36f-a0b736d2b5c0",
   "metadata": {},
   "outputs": [],
   "source": []
  },
  {
   "cell_type": "markdown",
   "id": "90974cf1-e707-439b-8017-7a25597ce939",
   "metadata": {},
   "source": [
    "## Third part"
   ]
  },
  {
   "cell_type": "code",
   "execution_count": null,
   "id": "862b7c92-f6d5-4cf6-a9a1-e2072ef2beae",
   "metadata": {},
   "outputs": [],
   "source": [
    "a = [3,6,1]\n",
    "a.sort()\n",
    "a"
   ]
  },
  {
   "cell_type": "code",
   "execution_count": null,
   "id": "6b1eb756-1ad9-417c-a914-017d69774c39",
   "metadata": {},
   "outputs": [],
   "source": [
    "pow(2,10,13)\n"
   ]
  },
  {
   "cell_type": "code",
   "execution_count": null,
   "id": "777748eb-1bd8-4593-821f-c76ffe722bd9",
   "metadata": {},
   "outputs": [],
   "source": [
    "3**7 %13\n",
    "81%13\n"
   ]
  }
 ],
 "metadata": {
  "kernelspec": {
   "display_name": "Python 3 (ipykernel)",
   "language": "python",
   "name": "python3"
  },
  "language_info": {
   "codemirror_mode": {
    "name": "ipython",
    "version": 3
   },
   "file_extension": ".py",
   "mimetype": "text/x-python",
   "name": "python",
   "nbconvert_exporter": "python",
   "pygments_lexer": "ipython3",
   "version": "3.9.14"
  }
 },
 "nbformat": 4,
 "nbformat_minor": 5
}
