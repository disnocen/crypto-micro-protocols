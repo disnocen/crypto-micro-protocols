{
 "cells": [
  {
   "cell_type": "markdown",
   "id": "5853932b-d9b4-4ef9-96e0-9184498ad6ae",
   "metadata": {},
   "source": [
    "# Joint Feldman DKG\n",
    "\n",
    "as seen in [Secure Distributed Key Generation\n",
    "for Discrete-Log Based Cryptosystems](https://link.springer.com/content/pdf/10.1007/3-540-48910-X_21.pdf)"
   ]
  },
  {
   "cell_type": "markdown",
   "id": "188b4640-c443-40e1-b681-bf43f051e1a2",
   "metadata": {},
   "source": [
    "## First part\n",
    "\n"
   ]
  },
  {
   "cell_type": "code",
   "execution_count": 1,
   "id": "fa2b6df4-a171-4509-a49d-ef5537868cd2",
   "metadata": {},
   "outputs": [],
   "source": [
    "import random as rnd #not secure, use os.random() instead"
   ]
  },
  {
   "cell_type": "code",
   "execution_count": 2,
   "id": "3a2c94d2-3cfb-4727-b8e3-b041ad7dccd0",
   "metadata": {},
   "outputs": [],
   "source": [
    "def create_polynomial(t,mod):\n",
    "    coeff = [rnd.randint(1,mod-1) for _ in range(t+1)]\n",
    "    return coeff\n",
    "\n",
    "def create_commits(coeff,t,g,mod):\n",
    "    comms = [pow(g,coeff[k],mod) for k in range(t+1)]\n",
    "    return comms\n"
   ]
  },
  {
   "cell_type": "code",
   "execution_count": 3,
   "id": "e3dc6a96-aa66-424b-afc5-043a168f8185",
   "metadata": {},
   "outputs": [],
   "source": [
    "def evaluate_polynomial(coeff,val,mod):\n",
    "    s = 0\n",
    "    for i in range(len(coeff)):\n",
    "        s += (coeff[i]*pow(val,i)) %mod\n",
    "        s=s%mod\n",
    "    \n",
    "    return s"
   ]
  },
  {
   "cell_type": "code",
   "execution_count": 4,
   "id": "d7336b4a-4984-4cf0-81c2-be67a07aa241",
   "metadata": {},
   "outputs": [],
   "source": [
    "def create_shares(coeff,n,mod,i):\n",
    "    \"\"\"\n",
    "    Every party i creates shares for all j\n",
    "    \"\"\"\n",
    "    evals = []\n",
    "    for j in range(0,n):\n",
    "        if j != i:\n",
    "            val = evaluate_polynomial(coeff, j,mod)\n",
    "            evals.append(val % mod)\n",
    "        else:\n",
    "            evals.append(0)\n",
    "    return evals"
   ]
  },
  {
   "cell_type": "code",
   "execution_count": 5,
   "id": "f0d70d6f-b15a-468f-b9d2-ad436d220f56",
   "metadata": {},
   "outputs": [],
   "source": [
    "def _verify_share(share, comms, j, g, t, mod):\n",
    "    \"\"\"\n",
    "    Given a share from party i and the commitment from that party,\n",
    "    this function verifies that the share is valid.\n",
    "    \"\"\"\n",
    "    flag = False\n",
    "\n",
    "    # Compute G = g^share mod mod\n",
    "    G = pow(g, share,mod)\n",
    "\n",
    "    # Initialize the product s to 1\n",
    "    s = 1\n",
    "\n",
    "    # Compute the product of C^j^k for k in [0, t]\n",
    "    for k in range(t+1):\n",
    "        jk = pow(j, k)\n",
    "        Cijk = pow(comms[k], jk,mod)\n",
    "        s *= Cijk\n",
    "        s = s % mod\n",
    "\n",
    "    # Check if G == s, and set the flag accordingly\n",
    "    if G == s:\n",
    "        # print(\"yeah!\")\n",
    "        flag = True\n",
    "    else:\n",
    "        print(f\"G={G}, s={s}\")\n",
    "\n",
    "    return flag\n",
    "\n",
    "\n",
    "\n",
    "def verify_shares(shares,comms,j,g,mod,n,t):\n",
    "    j_share=0\n",
    "    j_QUAL = [j] # each party will assume it is right\n",
    "    \n",
    "    for i in range(n):\n",
    "        if i != j:\n",
    "            share = shares['P_'+str(i)][j]\n",
    "            comms_i = comms[\"P_\"+str(i)]\n",
    "            if _verify_share(share,comms_i,j, g,t, mod): \n",
    "                j_QUAL.append(i)\n",
    "    \n",
    "    j_QUAL.sort()\n",
    "    return (j,j_QUAL)"
   ]
  },
  {
   "cell_type": "code",
   "execution_count": 6,
   "id": "3d76910a-cdb4-4e02-8cbe-b697e4062596",
   "metadata": {},
   "outputs": [],
   "source": [
    "t=5; n=10\n",
    "a=0; b=100\n",
    "g = 3; \n",
    "p=23\n",
    "q=11 # q|p-1, see https://crypto.stackexchange.com/a/84384/63690\n",
    "#r = 6361"
   ]
  },
  {
   "cell_type": "code",
   "execution_count": 7,
   "id": "ca1ee05e-1794-4e0e-be80-7668d644b840",
   "metadata": {},
   "outputs": [
    {
     "name": "stdout",
     "output_type": "stream",
     "text": [
      "coeff\n"
     ]
    },
    {
     "data": {
      "text/plain": [
       "{'P_0': [6, 3, 9, 8, 5, 8],\n",
       " 'P_1': [8, 5, 9, 10, 4, 3],\n",
       " 'P_2': [8, 5, 5, 6, 7, 5],\n",
       " 'P_3': [4, 1, 6, 3, 6, 4],\n",
       " 'P_4': [10, 3, 6, 1, 7, 8],\n",
       " 'P_5': [3, 1, 1, 5, 10, 8],\n",
       " 'P_6': [5, 5, 9, 8, 1, 10],\n",
       " 'P_7': [6, 8, 5, 1, 3, 5],\n",
       " 'P_8': [3, 3, 4, 1, 10, 1],\n",
       " 'P_9': [7, 10, 7, 4, 10, 2]}"
      ]
     },
     "execution_count": 7,
     "metadata": {},
     "output_type": "execute_result"
    }
   ],
   "source": [
    "coeff = {}\n",
    "for i in range(n):\n",
    "    coeff[\"P_\"+str(i)] = create_polynomial(t,q)\n",
    "\n",
    "print(\"coeff\")\n",
    "coeff"
   ]
  },
  {
   "cell_type": "code",
   "execution_count": 8,
   "id": "2d512442-a335-4715-9ce8-9c4d86ac49b3",
   "metadata": {},
   "outputs": [
    {
     "data": {
      "text/plain": [
       "{'P_0': [16, 4, 18, 6, 13, 6],\n",
       " 'P_1': [6, 13, 18, 8, 12, 4],\n",
       " 'P_2': [6, 13, 13, 16, 2, 13],\n",
       " 'P_3': [12, 3, 16, 4, 16, 12],\n",
       " 'P_4': [8, 4, 16, 3, 2, 6],\n",
       " 'P_5': [4, 3, 3, 13, 8, 6],\n",
       " 'P_6': [13, 13, 18, 6, 3, 8],\n",
       " 'P_7': [16, 6, 13, 3, 4, 13],\n",
       " 'P_8': [4, 4, 12, 3, 8, 3],\n",
       " 'P_9': [2, 8, 2, 12, 8, 9]}"
      ]
     },
     "execution_count": 8,
     "metadata": {},
     "output_type": "execute_result"
    }
   ],
   "source": [
    "comms = {}\n",
    "for i in range(n):\n",
    "    comms[\"P_\"+str(i)] = create_commits(coeff[\"P_\"+str(i)],t,g,p)\n",
    "comms"
   ]
  },
  {
   "cell_type": "code",
   "execution_count": 9,
   "id": "a14f4502-7ae0-4da8-b5a1-2ca5c20e7ef7",
   "metadata": {},
   "outputs": [
    {
     "name": "stdout",
     "output_type": "stream",
     "text": [
      "shares:\n"
     ]
    },
    {
     "data": {
      "text/plain": [
       "{'P_0': [0, 6, 8, 10, 4, 1, 1, 7, 6, 5],\n",
       " 'P_1': [8, 0, 8, 8, 2, 7, 3, 7, 4, 10],\n",
       " 'P_2': [8, 3, 0, 10, 1, 8, 10, 8, 9, 10],\n",
       " 'P_3': [4, 2, 3, 0, 10, 9, 0, 6, 5, 3],\n",
       " 'P_4': [10, 2, 9, 4, 0, 8, 9, 10, 4, 8],\n",
       " 'P_5': [3, 6, 3, 0, 7, 0, 8, 3, 5, 1],\n",
       " 'P_6': [5, 5, 0, 1, 1, 9, 0, 6, 3, 4],\n",
       " 'P_7': [6, 6, 5, 9, 9, 9, 10, 0, 7, 0],\n",
       " 'P_8': [3, 0, 5, 6, 9, 4, 8, 9, 0, 1],\n",
       " 'P_9': [7, 7, 3, 8, 7, 10, 6, 5, 3, 0]}"
      ]
     },
     "execution_count": 9,
     "metadata": {},
     "output_type": "execute_result"
    }
   ],
   "source": [
    "shares = {}\n",
    "for i in range(n):\n",
    "    shares[\"P_\"+str(i)] = create_shares(coeff[\"P_\"+str(i)],n,q,i)\n",
    "\n",
    "print(\"shares:\")\n",
    "shares"
   ]
  },
  {
   "cell_type": "code",
   "execution_count": 10,
   "id": "2d398564-25d2-4f4d-9dd7-4e07e1a3645f",
   "metadata": {},
   "outputs": [
    {
     "name": "stdout",
     "output_type": "stream",
     "text": [
      "(0, [0, 1, 2, 3, 4, 5, 6, 7, 8, 9])\n",
      "(1, [0, 1, 2, 3, 4, 5, 6, 7, 8, 9])\n",
      "(2, [0, 1, 2, 3, 4, 5, 6, 7, 8, 9])\n",
      "(3, [0, 1, 2, 3, 4, 5, 6, 7, 8, 9])\n",
      "(4, [0, 1, 2, 3, 4, 5, 6, 7, 8, 9])\n",
      "(5, [0, 1, 2, 3, 4, 5, 6, 7, 8, 9])\n",
      "(6, [0, 1, 2, 3, 4, 5, 6, 7, 8, 9])\n",
      "(7, [0, 1, 2, 3, 4, 5, 6, 7, 8, 9])\n",
      "(8, [0, 1, 2, 3, 4, 5, 6, 7, 8, 9])\n",
      "(9, [0, 1, 2, 3, 4, 5, 6, 7, 8, 9])\n"
     ]
    }
   ],
   "source": [
    "for j in range(n):\n",
    "    print(verify_shares(shares,comms,j,g,p,n,t))"
   ]
  },
  {
   "cell_type": "markdown",
   "id": "adb76364-9172-48dd-9167-3548c79d595c",
   "metadata": {},
   "source": [
    "## Exercises"
   ]
  },
  {
   "cell_type": "markdown",
   "id": "d5276ab9-b0e5-4a15-ad21-59ab0614bf88",
   "metadata": {},
   "source": [
    "1. What happens if we use only one large prime? In other words, what if `p == q` ?"
   ]
  },
  {
   "cell_type": "markdown",
   "id": "a919be14-fa44-4368-96eb-e3c3cb0315e6",
   "metadata": {},
   "source": [
    "Answer:"
   ]
  },
  {
   "cell_type": "markdown",
   "id": "820113c3-2779-4eca-b963-717b810203f9",
   "metadata": {},
   "source": [
    "2. Write a function such that given two primes `p` and `q` returns `True` if they are \"good primes\" (as defined in the linked paper at the beginning) and `False` otherwise. Assume `p` and `q` are prime"
   ]
  },
  {
   "cell_type": "code",
   "execution_count": 11,
   "id": "39a675ff-b0df-43f2-9d04-9ca81df158b4",
   "metadata": {},
   "outputs": [],
   "source": [
    "def check(p,q):\n",
    "    pass"
   ]
  },
  {
   "cell_type": "markdown",
   "id": "3f8f5407-ca08-45f1-897b-4574c0e5a4f6",
   "metadata": {},
   "source": [
    "3. Complete Steps 3 and 4 of Feldman DKG as presented in linked paper at the beginning (page 6). Specifically:\n",
    "    - STEP 3: identify the `QUAL` nodes (hint: use the ideas of the next cell)\n",
    "    - STEP 4: compute the public key for each party"
   ]
  },
  {
   "cell_type": "code",
   "execution_count": 12,
   "id": "6666be1e-031d-435d-9fe7-3b1a874bef67",
   "metadata": {},
   "outputs": [
    {
     "name": "stdout",
     "output_type": "stream",
     "text": [
      "{0, 1, 4, 5, 6, 7, 9}\n"
     ]
    }
   ],
   "source": [
    "a = [0, 1, 2, 3, 4, 5, 6, 7, 8, 9]\n",
    "b = [0, 1, 3, 4, 5, 6, 7, 8, 9]\n",
    "c = [0, 1, 2, 3, 4, 5, 6, 7, 9]\n",
    "d = [0, 1, 2, 4, 5, 6, 7, 9]\n",
    "\n",
    "A = [set(a),set(b),set(c),set(d)]\n",
    "\n",
    "for i in range(1,len(A)):\n",
    "    A[0] = A[0].intersection(A[i])\n",
    "    \n",
    "print(A[0])"
   ]
  },
  {
   "cell_type": "markdown",
   "id": "f576bd29-bd17-486f-99f9-23ab7b7ef546",
   "metadata": {},
   "source": [
    "4. Describe why the Feldman DKG is insecure (hint: argument in your own words the explanation given in the linked paper at the beginning)"
   ]
  },
  {
   "cell_type": "markdown",
   "id": "a2d24fd5-dadb-4a41-ab71-edd8511ee378",
   "metadata": {},
   "source": [
    "Answer:"
   ]
  }
 ],
 "metadata": {
  "kernelspec": {
   "display_name": "Python 3 (ipykernel)",
   "language": "python",
   "name": "python3"
  },
  "language_info": {
   "codemirror_mode": {
    "name": "ipython",
    "version": 3
   },
   "file_extension": ".py",
   "mimetype": "text/x-python",
   "name": "python",
   "nbconvert_exporter": "python",
   "pygments_lexer": "ipython3",
   "version": "3.9.14"
  }
 },
 "nbformat": 4,
 "nbformat_minor": 5
}
